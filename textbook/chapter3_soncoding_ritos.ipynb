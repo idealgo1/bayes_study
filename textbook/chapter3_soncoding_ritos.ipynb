{
 "cells": [
  {
   "cell_type": "markdown",
   "metadata": {},
   "source": [
    "# Chapter 3\n",
    "by Ritos"
   ]
  },
  {
   "cell_type": "markdown",
   "metadata": {},
   "source": [
    "## 추정 1"
   ]
  },
  {
   "cell_type": "markdown",
   "metadata": {},
   "source": [
    "나는 이 동네에서 suite를 사용하지 않았다. <br>\n",
    "그 이유는 베이지안에서 likelihood를 계산하는 로직을 완벽히 이해하여 손으로도 구현할 수 있는 수준부터 되어야 한다고 믿었기 때문이다. <br>\n",
    "따라서 이번 단원에서는 순수하게 로직과 손 계산을 중심으로 다루면서 이론과 돌아가는 상황을 '이해'하는 것에 초점을 맞춰보자."
   ]
  },
  {
   "cell_type": "markdown",
   "metadata": {},
   "source": [
    "___"
   ]
  },
  {
   "cell_type": "markdown",
   "metadata": {},
   "source": [
    "### 주사위 문제"
   ]
  },
  {
   "cell_type": "markdown",
   "metadata": {},
   "source": [
    "책에서는 6, 8, 7, 7, 5, 4를 던졌다고 했지만, 자세히 보면 **더** 던진 것이다. <br>\n",
    "즉, 총 데이터는 [6,6,8,7,7,5,4] 이다! <br>\n",
    "여기서 필자가 책과 비교하면서 계산이 안맞는 것을 가지고 1시간을 씨름했는데, 이 대목에서 얼마나 이 책이 불친절한지 알 수 있다..."
   ]
  },
  {
   "cell_type": "code",
   "execution_count": 11,
   "metadata": {},
   "outputs": [
    {
     "name": "stdout",
     "output_type": "stream",
     "text": [
      "8 0.125\n",
      "12 0.0833333333333\n",
      "6 0.166666666667\n",
      "20 0.05\n",
      "After one 6\n",
      "8 0.125\n",
      "12 0.0833333333333\n",
      "6 0.166666666667\n",
      "20 0.05\n",
      "8 0.125\n",
      "12 0.0833333333333\n",
      "20 0.05\n",
      "8 0.125\n",
      "12 0.0833333333333\n",
      "20 0.05\n",
      "8 0.125\n",
      "12 0.0833333333333\n",
      "20 0.05\n",
      "8 0.125\n",
      "12 0.0833333333333\n",
      "6 0.166666666667\n",
      "20 0.05\n",
      "8 0.125\n",
      "12 0.0833333333333\n",
      "4 0.25\n",
      "6 0.166666666667\n",
      "20 0.05\n",
      "After more rolls\n",
      "4 0.0\n",
      "6 0.0\n",
      "8 0.943248453672\n",
      "12 0.0552061280613\n",
      "20 0.0015454182665\n"
     ]
    }
   ],
   "source": [
    "\"\"\"This file contains code for use with \"Think Bayes\",\n",
    "by Allen B. Downey, available from greenteapress.com\n",
    "\n",
    "Copyright 2012 Allen B. Downey\n",
    "License: GNU GPLv3 http://www.gnu.org/licenses/gpl.html\n",
    "\"\"\"\n",
    "\n",
    "from thinkbayes import Suite\n",
    "\n",
    "\n",
    "class Dice(Suite):\n",
    "    \"\"\"Represents hypotheses about which die was rolled.\"\"\"\n",
    "\n",
    "    def Likelihood(self, data, hypo):\n",
    "        \"\"\"Computes the likelihood of the data under the hypothesis.\n",
    "\n",
    "        hypo: integer number of sides on the die\n",
    "        data: integer die roll\n",
    "        \"\"\"\n",
    "        if hypo < data:\n",
    "            return 0\n",
    "        else:\n",
    "            print hypo, 1.0/hypo\n",
    "            return 1.0/hypo\n",
    "\n",
    "\n",
    "def main():\n",
    "    suite = Dice([4, 6, 8, 12, 20])\n",
    "\n",
    "    suite.Update(6)\n",
    "    print 'After one 6'\n",
    "    #suite.Print()\n",
    "\n",
    "    for roll in [6,8,7,7,5,4]:\n",
    "        suite.Update(roll)\n",
    "\n",
    "    print 'After more rolls'\n",
    "    suite.Print()\n",
    "\n",
    "\n",
    "if __name__ == '__main__':\n",
    "    main()\n"
   ]
  },
  {
   "cell_type": "markdown",
   "metadata": {},
   "source": [
    "책에서의 결과값과 비교해보면 손색없이 잘 들어맞는 것을 확인할 수 있다. <br>\n",
    "이제 기관차로 넘어가보자."
   ]
  },
  {
   "cell_type": "code",
   "execution_count": 13,
   "metadata": {},
   "outputs": [],
   "source": [
    "import math"
   ]
  },
  {
   "cell_type": "code",
   "execution_count": 32,
   "metadata": {},
   "outputs": [
    {
     "data": {
      "text/plain": [
       "0.9432484536722126"
      ]
     },
     "execution_count": 32,
     "metadata": {},
     "output_type": "execute_result"
    }
   ],
   "source": [
    "total = 1/math.pow(8,7) + 1/math.pow(12,7) + 1/math.pow(20,7)\n",
    "\n",
    "(1/math.pow(8,7)) / total"
   ]
  },
  {
   "cell_type": "markdown",
   "metadata": {},
   "source": [
    "이것은 위의 suite 프로세스를 사용하지 않고 손 로직으로 순수하게 계산한 것이다. <br>\n",
    "잘 보면 total이라는 친구가 있는데, 저것으로 나누어주는 이유를 묻는 무식함을 범하진 말자. Normalization 때문이다."
   ]
  },
  {
   "cell_type": "markdown",
   "metadata": {},
   "source": [
    "___"
   ]
  },
  {
   "cell_type": "markdown",
   "metadata": {},
   "source": [
    "### 기관차 문제"
   ]
  },
  {
   "cell_type": "code",
   "execution_count": 33,
   "metadata": {},
   "outputs": [
    {
     "data": {
      "text/plain": [
       "498"
      ]
     },
     "execution_count": 33,
     "metadata": {},
     "output_type": "execute_result"
    }
   ],
   "source": [
    "sum(range(60,1001))/1000"
   ]
  },
  {
   "cell_type": "markdown",
   "metadata": {},
   "source": [
    "아래는 N을 바꾸면서 사후 분포의 평균값을 출력해보는 함수이다. <br>\n",
    "지저분한 함수이지만, 직관적이다. (이 역시 손 계산을 검증하여 책과 비교해보기 위한 목적이다)"
   ]
  },
  {
   "cell_type": "code",
   "execution_count": 1,
   "metadata": {},
   "outputs": [],
   "source": [
    "def examine_locomotive(N):\n",
    "    l = []\n",
    "    for i in range(60,N+1):\n",
    "        l.append(1.0/i)\n",
    "\n",
    "    p = []\n",
    "    total = sum(l)\n",
    "    for i in range(60,N+1):\n",
    "        p.append((1.0/i)/total)\n",
    "\n",
    "\n",
    "    SUM = 0\n",
    "    for k,i in enumerate(range(60,N+1)):\n",
    "        SUM+=i*p[k]\n",
    "\n",
    "    print SUM"
   ]
  },
  {
   "cell_type": "code",
   "execution_count": 3,
   "metadata": {},
   "outputs": [
    {
     "name": "stdout",
     "output_type": "stream",
     "text": [
      "207.079227983\n",
      "333.419893264\n",
      "552.179017165\n"
     ]
    }
   ],
   "source": [
    "examine_locomotive(500)\n",
    "examine_locomotive(1000)\n",
    "examine_locomotive(2000)"
   ]
  },
  {
   "cell_type": "markdown",
   "metadata": {},
   "source": [
    "이번에는 데이터를 더 많이 확보한 상황에서 직접 계산을 해보는 것이다. <br>\n",
    "90호 기관차를 목격했기 때문에 range가 90부터 시작한다는 것에 유념하고 보자."
   ]
  },
  {
   "cell_type": "code",
   "execution_count": 74,
   "metadata": {},
   "outputs": [],
   "source": [
    "def examine_with_more_data(N):\n",
    "    # power law\n",
    "    l = []\n",
    "    for i in range(90,N+1):\n",
    "        l.append(math.pow(1.0/i, 3))\n",
    "\n",
    "    p = []\n",
    "    total = sum(l)\n",
    "\n",
    "    for i in range(90,N+1):\n",
    "        p.append(math.pow(1.0/i, 3)/total)\n",
    "\n",
    "    SUM = 0\n",
    "    for k,i in enumerate(range(90,N+1)):\n",
    "        SUM+=i*p[k]\n",
    "\n",
    "    print SUM"
   ]
  },
  {
   "cell_type": "code",
   "execution_count": 76,
   "metadata": {},
   "outputs": [
    {
     "name": "stdout",
     "output_type": "stream",
     "text": [
      "151.849587959\n",
      "164.305586423\n",
      "171.338181092\n"
     ]
    }
   ],
   "source": [
    "examine_with_more_data(500)\n",
    "examine_with_more_data(1000)\n",
    "examine_with_more_data(2000)"
   ]
  },
  {
   "cell_type": "markdown",
   "metadata": {},
   "source": [
    "이 불친절하고 무식한 책은 멱법칙을 신나게 설명해놓고 likelihood 로직은 쏙 빼놓는 바람에 필자가 또 고생을 했다. <br>\n",
    "그러나 안심해라. 아래와 같이 내가 재현했다. <br>\n",
    "아래 결과값은 한글 번역본 기준 48pg에 나와있다."
   ]
  },
  {
   "cell_type": "code",
   "execution_count": 77,
   "metadata": {},
   "outputs": [],
   "source": [
    "def examine_with_power_law(N):\n",
    "    # power law\n",
    "    l = []\n",
    "    for i in range(90,N+1):\n",
    "        l.append(math.pow(1.0/i, 4))\n",
    "\n",
    "    p = []\n",
    "    total = sum(l)\n",
    "\n",
    "    for i in range(90,N+1):\n",
    "        p.append(math.pow(1.0/i, 4)/total)\n",
    "\n",
    "    SUM = 0\n",
    "    for k,i in enumerate(range(90,N+1)):\n",
    "        SUM+=i*p[k]\n",
    "\n",
    "    print SUM"
   ]
  },
  {
   "cell_type": "code",
   "execution_count": 79,
   "metadata": {},
   "outputs": [
    {
     "name": "stdout",
     "output_type": "stream",
     "text": [
      "130.708469863\n",
      "133.275231375\n",
      "133.997463081\n"
     ]
    }
   ],
   "source": [
    "examine_with_power_law(500)\n",
    "examine_with_power_law(1000)\n",
    "examine_with_power_law(2000)"
   ]
  },
  {
   "cell_type": "markdown",
   "metadata": {},
   "source": [
    "___"
   ]
  },
  {
   "cell_type": "markdown",
   "metadata": {},
   "source": [
    "손 계산에 대한 것은 이쯤이면 되겠는데, 신뢰구간에 대한 심도 있는 이론, 철학 등은 마크다운으로 따로 포스팅하도록 하겠다."
   ]
  }
 ],
 "metadata": {
  "kernelspec": {
   "display_name": "Python 2",
   "language": "python",
   "name": "python2"
  },
  "language_info": {
   "codemirror_mode": {
    "name": "ipython",
    "version": 2
   },
   "file_extension": ".py",
   "mimetype": "text/x-python",
   "name": "python",
   "nbconvert_exporter": "python",
   "pygments_lexer": "ipython2",
   "version": "2.7.14"
  }
 },
 "nbformat": 4,
 "nbformat_minor": 2
}
