{
 "cells": [
  {
   "cell_type": "code",
   "execution_count": 11,
   "metadata": {},
   "outputs": [
    {
     "name": "stdout",
     "output_type": "stream",
     "text": [
      "8 0.125\n",
      "12 0.0833333333333\n",
      "6 0.166666666667\n",
      "20 0.05\n",
      "After one 6\n",
      "8 0.125\n",
      "12 0.0833333333333\n",
      "6 0.166666666667\n",
      "20 0.05\n",
      "8 0.125\n",
      "12 0.0833333333333\n",
      "20 0.05\n",
      "8 0.125\n",
      "12 0.0833333333333\n",
      "20 0.05\n",
      "8 0.125\n",
      "12 0.0833333333333\n",
      "20 0.05\n",
      "8 0.125\n",
      "12 0.0833333333333\n",
      "6 0.166666666667\n",
      "20 0.05\n",
      "8 0.125\n",
      "12 0.0833333333333\n",
      "4 0.25\n",
      "6 0.166666666667\n",
      "20 0.05\n",
      "After more rolls\n",
      "4 0.0\n",
      "6 0.0\n",
      "8 0.943248453672\n",
      "12 0.0552061280613\n",
      "20 0.0015454182665\n"
     ]
    }
   ],
   "source": [
    "\"\"\"This file contains code for use with \"Think Bayes\",\n",
    "by Allen B. Downey, available from greenteapress.com\n",
    "\n",
    "Copyright 2012 Allen B. Downey\n",
    "License: GNU GPLv3 http://www.gnu.org/licenses/gpl.html\n",
    "\"\"\"\n",
    "\n",
    "from thinkbayes import Suite\n",
    "\n",
    "\n",
    "class Dice(Suite):\n",
    "    \"\"\"Represents hypotheses about which die was rolled.\"\"\"\n",
    "\n",
    "    def Likelihood(self, data, hypo):\n",
    "        \"\"\"Computes the likelihood of the data under the hypothesis.\n",
    "\n",
    "        hypo: integer number of sides on the die\n",
    "        data: integer die roll\n",
    "        \"\"\"\n",
    "        if hypo < data:\n",
    "            return 0\n",
    "        else:\n",
    "            print hypo, 1.0/hypo\n",
    "            return 1.0/hypo\n",
    "\n",
    "\n",
    "def main():\n",
    "    suite = Dice([4, 6, 8, 12, 20])\n",
    "\n",
    "    suite.Update(6)\n",
    "    print 'After one 6'\n",
    "    #suite.Print()\n",
    "\n",
    "    for roll in [6,8,7,7,5,4]:\n",
    "        suite.Update(roll)\n",
    "\n",
    "    print 'After more rolls'\n",
    "    suite.Print()\n",
    "\n",
    "\n",
    "if __name__ == '__main__':\n",
    "    main()\n"
   ]
  },
  {
   "cell_type": "code",
   "execution_count": 8,
   "metadata": {},
   "outputs": [
    {
     "data": {
      "text/plain": [
       "0.91584527196901"
      ]
     },
     "execution_count": 8,
     "metadata": {},
     "output_type": "execute_result"
    }
   ],
   "source": [
    "float(15*15*15*15*15*15)/float((15*15*15*15*15*15)+(1000000)+(6*6*6*6*6*6))"
   ]
  },
  {
   "cell_type": "code",
   "execution_count": 13,
   "metadata": {},
   "outputs": [],
   "source": [
    "import math"
   ]
  },
  {
   "cell_type": "code",
   "execution_count": 32,
   "metadata": {},
   "outputs": [
    {
     "data": {
      "text/plain": [
       "0.9432484536722126"
      ]
     },
     "execution_count": 32,
     "metadata": {},
     "output_type": "execute_result"
    }
   ],
   "source": [
    "total = 1/math.pow(8,7) + 1/math.pow(12,7) + 1/math.pow(20,7)\n",
    "\n",
    "(1/math.pow(8,7)) / total"
   ]
  },
  {
   "cell_type": "code",
   "execution_count": 31,
   "metadata": {},
   "outputs": [
    {
     "data": {
      "text/plain": [
       "0.48387096774193555"
      ]
     },
     "execution_count": 31,
     "metadata": {},
     "output_type": "execute_result"
    }
   ],
   "source": [
    "total = float(1.0/8.0 + 1.0/12.0 + 1.0/20.0)\n",
    "\n",
    "float(1.0/8.0) / float(total)\n"
   ]
  },
  {
   "cell_type": "code",
   "execution_count": 33,
   "metadata": {},
   "outputs": [
    {
     "data": {
      "text/plain": [
       "498"
      ]
     },
     "execution_count": 33,
     "metadata": {},
     "output_type": "execute_result"
    }
   ],
   "source": [
    "sum(range(60,1001))/1000"
   ]
  },
  {
   "cell_type": "code",
   "execution_count": 57,
   "metadata": {},
   "outputs": [],
   "source": [
    "def examine_locomotive(N):\n",
    "    l = []\n",
    "    for i in range(60,N+1):\n",
    "        l.append(1.0/i)\n",
    "\n",
    "    p = []\n",
    "    total = sum(l)\n",
    "    for i in range(60,N+1):\n",
    "        p.append((1.0/i)/total)\n",
    "\n",
    "\n",
    "    SUM = 0\n",
    "    for k,i in enumerate(range(60,N+1)):\n",
    "        SUM+=i*p[k]\n",
    "\n",
    "    print SUM"
   ]
  },
  {
   "cell_type": "code",
   "execution_count": 59,
   "metadata": {},
   "outputs": [
    {
     "name": "stdout",
     "output_type": "stream",
     "text": [
      "207.079227983\n",
      "552.179017165\n"
     ]
    }
   ],
   "source": [
    "examine_locomotive(500)\n",
    "examine_locomotive(2000)"
   ]
  },
  {
   "cell_type": "code",
   "execution_count": 74,
   "metadata": {},
   "outputs": [],
   "source": [
    "def examine_with_more_data(N):\n",
    "    # power law\n",
    "    l = []\n",
    "    for i in range(90,N+1):\n",
    "        l.append(math.pow(1.0/i, 3))\n",
    "\n",
    "    p = []\n",
    "    total = sum(l)\n",
    "\n",
    "    for i in range(90,N+1):\n",
    "        p.append(math.pow(1.0/i, 3)/total)\n",
    "\n",
    "    SUM = 0\n",
    "    for k,i in enumerate(range(90,N+1)):\n",
    "        SUM+=i*p[k]\n",
    "\n",
    "    print SUM"
   ]
  },
  {
   "cell_type": "code",
   "execution_count": 76,
   "metadata": {},
   "outputs": [
    {
     "name": "stdout",
     "output_type": "stream",
     "text": [
      "151.849587959\n",
      "164.305586423\n",
      "171.338181092\n"
     ]
    }
   ],
   "source": [
    "examine_with_more_data(500)\n",
    "examine_with_more_data(1000)\n",
    "examine_with_more_data(2000)"
   ]
  },
  {
   "cell_type": "code",
   "execution_count": 77,
   "metadata": {},
   "outputs": [],
   "source": [
    "def examine_with_power_law(N):\n",
    "    # power law\n",
    "    l = []\n",
    "    for i in range(90,N+1):\n",
    "        l.append(math.pow(1.0/i, 4))\n",
    "\n",
    "    p = []\n",
    "    total = sum(l)\n",
    "\n",
    "    for i in range(90,N+1):\n",
    "        p.append(math.pow(1.0/i, 4)/total)\n",
    "\n",
    "    SUM = 0\n",
    "    for k,i in enumerate(range(90,N+1)):\n",
    "        SUM+=i*p[k]\n",
    "\n",
    "    print SUM"
   ]
  },
  {
   "cell_type": "code",
   "execution_count": 79,
   "metadata": {},
   "outputs": [
    {
     "name": "stdout",
     "output_type": "stream",
     "text": [
      "130.708469863\n",
      "133.275231375\n",
      "133.997463081\n"
     ]
    }
   ],
   "source": [
    "examine_with_power_law(500)\n",
    "examine_with_power_law(1000)\n",
    "examine_with_power_law(2000)"
   ]
  },
  {
   "cell_type": "code",
   "execution_count": null,
   "metadata": {},
   "outputs": [],
   "source": []
  }
 ],
 "metadata": {
  "kernelspec": {
   "display_name": "Python 2",
   "language": "python",
   "name": "python2"
  },
  "language_info": {
   "codemirror_mode": {
    "name": "ipython",
    "version": 2
   },
   "file_extension": ".py",
   "mimetype": "text/x-python",
   "name": "python",
   "nbconvert_exporter": "python",
   "pygments_lexer": "ipython2",
   "version": "2.7.14"
  }
 },
 "nbformat": 4,
 "nbformat_minor": 2
}
